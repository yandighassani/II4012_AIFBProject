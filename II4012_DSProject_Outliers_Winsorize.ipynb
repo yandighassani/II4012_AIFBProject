{
  "nbformat": 4,
  "nbformat_minor": 0,
  "metadata": {
    "colab": {
      "provenance": []
    },
    "kernelspec": {
      "name": "python3",
      "display_name": "Python 3"
    },
    "language_info": {
      "name": "python"
    }
  },
  "cells": [
    {
      "cell_type": "markdown",
      "source": [
        "# **Winsorizing untuk 3 dataset**"
      ],
      "metadata": {
        "id": "PL8ZdXW2hx1E"
      }
    },
    {
      "cell_type": "code",
      "execution_count": 7,
      "metadata": {
        "colab": {
          "base_uri": "https://localhost:8080/"
        },
        "id": "Ywr8bPRuhrit",
        "outputId": "c807933f-a60a-4cb0-beb6-e03f749167dd"
      },
      "outputs": [
        {
          "output_type": "stream",
          "name": "stdout",
          "text": [
            "=== Dataset 1: Jenis Kekerasan ===\n",
            "       jumlah_korban  jumlah_korban_winsor\n",
            "count      64.000000             64.000000\n",
            "mean       29.031250             27.140625\n",
            "std        42.445098             34.988827\n",
            "min         0.000000              0.000000\n",
            "25%         3.750000              3.750000\n",
            "50%        15.000000             15.000000\n",
            "75%        31.000000             31.000000\n",
            "max       238.000000            129.000000 \n",
            "\n",
            "=== Dataset 2: Status Pekerjaan ===\n",
            "       jumlah_korban  jumlah_korban_winsor\n",
            "count      40.000000             40.000000\n",
            "mean       42.025000             40.600000\n",
            "std        38.896633             35.677185\n",
            "min         0.000000              0.000000\n",
            "25%         8.500000              8.500000\n",
            "50%        30.000000             30.000000\n",
            "75%        69.000000             69.000000\n",
            "max       148.000000            106.000000 \n",
            "\n",
            "=== Dataset 3: Tempat Kejadian Perkara ===\n",
            "       jumlah_korban  jumlah_korban_winsor\n",
            "count      48.000000              48.00000\n",
            "mean      113.062500              29.93750\n",
            "std       451.891411              57.92196\n",
            "min         0.000000               0.00000\n",
            "25%         0.000000               0.00000\n",
            "50%         6.000000               6.00000\n",
            "75%        18.000000              18.00000\n",
            "max      2623.000000             214.00000\n"
          ]
        }
      ],
      "source": [
        "import pandas as pd\n",
        "from scipy.stats.mstats import winsorize\n",
        "\n",
        "def apply_winsor(df, col='jumlah_korban', lower_pct=0.05, upper_pct=0.05):\n",
        "    df[f'{col}_winsor'] = winsorize(df[col], limits=(lower_pct, upper_pct))\n",
        "    return df\n",
        "\n",
        "df1 = pd.read_csv('jenis_kekerasan.csv')\n",
        "df2 = pd.read_csv('status_pekerjaan.csv')\n",
        "df3 = pd.read_csv('tempat_kejadian.csv')\n",
        "\n",
        "df1 = apply_winsor(df1)\n",
        "df2 = apply_winsor(df2)\n",
        "df3 = apply_winsor(df3)\n",
        "\n",
        "print(\"=== Dataset 1: Jenis Kekerasan ===\")\n",
        "print(df1[['jumlah_korban','jumlah_korban_winsor']].describe(), \"\\n\")\n",
        "\n",
        "print(\"=== Dataset 2: Status Pekerjaan ===\")\n",
        "print(df2[['jumlah_korban','jumlah_korban_winsor']].describe(), \"\\n\")\n",
        "\n",
        "print(\"=== Dataset 3: Tempat Kejadian Perkara ===\")\n",
        "print(df3[['jumlah_korban','jumlah_korban_winsor']].describe())"
      ]
    }
  ]
}