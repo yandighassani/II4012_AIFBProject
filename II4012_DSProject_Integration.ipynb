{
  "nbformat": 4,
  "nbformat_minor": 0,
  "metadata": {
    "colab": {
      "provenance": []
    },
    "kernelspec": {
      "name": "python3",
      "display_name": "Python 3"
    },
    "language_info": {
      "name": "python"
    }
  },
  "cells": [
    {
      "cell_type": "markdown",
      "source": [
        "# **Integrasi Data**"
      ],
      "metadata": {
        "id": "7lWre7yiyNOA"
      }
    },
    {
      "cell_type": "code",
      "execution_count": 1,
      "metadata": {
        "colab": {
          "base_uri": "https://localhost:8080/"
        },
        "id": "Bh6bV-Hkw7KC",
        "outputId": "f3398c81-211a-4e1f-e7e2-133aaa1a015d"
      },
      "outputs": [
        {
          "output_type": "stream",
          "name": "stdout",
          "text": [
            "  jenis_kekerasan jenis_kelamin_korban  korban_jenis  tahun  \\\n",
            "0           FISIK          LAKI - LAKI           0.0   2018   \n",
            "1           FISIK          LAKI - LAKI           0.0   2018   \n",
            "2           FISIK          LAKI - LAKI           0.0   2018   \n",
            "3           FISIK          LAKI - LAKI           0.0   2018   \n",
            "4           FISIK          LAKI - LAKI           0.0   2018   \n",
            "\n",
            "    status_pekerjaan  korban_pekerjaan      tempat_kejadian_perkara  \\\n",
            "0  PELAJAR/MAHASISWA                52  TEMPAT TINGGAL/RUMAH TANGGA   \n",
            "1  PELAJAR/MAHASISWA                52                 TEMPAT KERJA   \n",
            "2  PELAJAR/MAHASISWA                52                  TEMPAT UMUM   \n",
            "3  PELAJAR/MAHASISWA                52         FASILITAS PENDIDIKAN   \n",
            "4  PELAJAR/MAHASISWA                52              FASILITAS MEDIS   \n",
            "\n",
            "   korban_tkp  jumlah_korban_total  \n",
            "0        14.0                 66.0  \n",
            "1         8.0                 60.0  \n",
            "2         0.0                 52.0  \n",
            "3        13.0                 65.0  \n",
            "4         0.0                 52.0  \n"
          ]
        }
      ],
      "source": [
        "import pandas as pd\n",
        "\n",
        "df1 = pd.read_csv('jenis_kekerasan.csv')\n",
        "df2 = pd.read_csv('status_pekerjaan.csv')\n",
        "df3 = pd.read_csv('tempat_kejadian.csv')\n",
        "\n",
        "df1 = df1.rename(columns={'jumlah_korban': 'korban_jenis'})\n",
        "df2 = df2.rename(columns={'jumlah_korban': 'korban_pekerjaan'})\n",
        "df3 = df3.rename(columns={'jumlah_korban': 'korban_tkp'})\n",
        "\n",
        "merged = pd.merge(df1, df2, on=['jenis_kelamin_korban', 'tahun'], how='outer')\n",
        "merged = pd.merge(merged, df3, on=['jenis_kelamin_korban', 'tahun'], how='outer')\n",
        "\n",
        "merged[['korban_jenis', 'korban_pekerjaan', 'korban_tkp']] = merged[[\n",
        "    'korban_jenis', 'korban_pekerjaan', 'korban_tkp']].fillna(0)\n",
        "\n",
        "merged['jumlah_korban_total'] = merged['korban_jenis'] + merged['korban_pekerjaan'] + merged['korban_tkp']\n",
        "\n",
        "print(merged.head())"
      ]
    },
    {
      "cell_type": "markdown",
      "source": [
        "# ***Group By***"
      ],
      "metadata": {
        "id": "Na5orlmHyQfG"
      }
    },
    {
      "cell_type": "code",
      "source": [
        "summary = merged.groupby(['jenis_kelamin_korban', 'tahun'])['jumlah_korban_total'].sum().reset_index()\n",
        "print(summary)"
      ],
      "metadata": {
        "colab": {
          "base_uri": "https://localhost:8080/"
        },
        "id": "SAIge3nUyP9u",
        "outputId": "ef346fe2-f69c-44d0-8948-da4a679834ac"
      },
      "execution_count": 2,
      "outputs": [
        {
          "output_type": "stream",
          "name": "stdout",
          "text": [
            "  jenis_kelamin_korban  tahun  jumlah_korban_total\n",
            "0          LAKI - LAKI   2018               5408.0\n",
            "1          LAKI - LAKI   2019              11200.0\n",
            "2          LAKI - LAKI   2020               5496.0\n",
            "3          LAKI - LAKI   2021                 44.0\n",
            "4          LAKI - LAKI   2023               7880.0\n",
            "5            PEREMPUAN   2018             157688.0\n",
            "6            PEREMPUAN   2019              27112.0\n",
            "7            PEREMPUAN   2020              23752.0\n",
            "8            PEREMPUAN   2021                273.0\n",
            "9            PEREMPUAN   2023              45192.0\n"
          ]
        }
      ]
    }
  ]
}